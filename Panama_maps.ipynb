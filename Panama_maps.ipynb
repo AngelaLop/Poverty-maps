{
 "cells": [
  {
   "cell_type": "code",
   "execution_count": 1,
   "id": "824bb553",
   "metadata": {},
   "outputs": [],
   "source": [
    "import plotly.express as px\n",
    "import json\n",
    "import os\n",
    "import pandas as pd"
   ]
  },
  {
   "cell_type": "code",
   "execution_count": 2,
   "id": "ce1f8f3f",
   "metadata": {},
   "outputs": [],
   "source": [
    "import plotly.io as pio\n",
    "pio.renderers.default = \"browser\""
   ]
  },
  {
   "cell_type": "code",
   "execution_count": 3,
   "id": "a8b6e626",
   "metadata": {},
   "outputs": [
    {
     "name": "stdout",
     "output_type": "stream",
     "text": [
      "C:/Users/WB585318/WBG/Javier Romero - Panama/Pre-SCD/02 data/maps\n"
     ]
    }
   ],
   "source": [
    "path = 'C:/Users/WB585318/WBG/Javier Romero - Panama/Pre-SCD/'\n",
    "data = path+'02 data/maps'\n",
    "os.chdir(data)\n",
    "\n",
    "\n",
    "\n",
    "print(data)"
   ]
  },
  {
   "cell_type": "code",
   "execution_count": 26,
   "id": "a02adbbc",
   "metadata": {},
   "outputs": [],
   "source": [
    "panama_corr = json.load(open(\"PAN_corr.geojson\",\"r\",encoding='ISO-8859-1'))"
   ]
  },
  {
   "cell_type": "code",
   "execution_count": 38,
   "id": "4f5e53ad",
   "metadata": {},
   "outputs": [],
   "source": [
    "panama_distr = json.load(open(\"distritos-panama.geojson\",\"r\",encoding='utf8'))"
   ]
  },
  {
   "cell_type": "code",
   "execution_count": 5,
   "id": "c8505ed3",
   "metadata": {},
   "outputs": [],
   "source": [
    "### creo id por corregimientos \n",
    "corr_id_map = {}\n",
    "for feature in panama_corr['features']:\n",
    "    feature['ids'] = feature['properties']['Codigo_u']\n",
    "    corr_id_map[feature['properties']['Nombre']] = feature['ids']"
   ]
  },
  {
   "cell_type": "code",
   "execution_count": 190,
   "id": "043bc5cb",
   "metadata": {},
   "outputs": [],
   "source": [
    "## creo diccionario con Ids de los corregimientos\n",
    "corr_id_map_1 = {}\n",
    "for geometries in panama_corr['objects']['collection']['geometries']:\n",
    "    geometries['ids'] = geometries['properties']['COD_CORR']\n",
    "    corr_id_map_1[geometries['properties']['CORR_NOMB']] = geometries['ids']"
   ]
  },
  {
   "cell_type": "code",
   "execution_count": 39,
   "id": "0397a635",
   "metadata": {},
   "outputs": [
    {
     "data": {
      "text/plain": [
       "{'OBJECTID': 1,\n",
       " 'PROV_ID': '01',\n",
       " 'DIST_ID': '02',\n",
       " 'DIST_NOMBR': 'CHANGUINOLA',\n",
       " 'DIST_CODIG': '0102',\n",
       " 'LABEL': 'Changuinola',\n",
       " 'Shape_Leng': 499296.123006,\n",
       " 'Shape_Area': 4000131127.91}"
      ]
     },
     "execution_count": 39,
     "metadata": {},
     "output_type": "execute_result"
    }
   ],
   "source": [
    "panama_distr['features'][0]['properties']"
   ]
  },
  {
   "cell_type": "code",
   "execution_count": 40,
   "id": "28b87564",
   "metadata": {},
   "outputs": [],
   "source": [
    "### creo diccionario por distritos\n",
    "distr_id_map = {}\n",
    "for feature in panama_distr['features']:\n",
    "    feature['ids'] = feature['properties']['DIST_CODIG']\n",
    "    distr_id_map[feature['properties']['DIST_NOMBR']] = feature['ids']"
   ]
  },
  {
   "cell_type": "code",
   "execution_count": 48,
   "id": "ef89cc44",
   "metadata": {},
   "outputs": [],
   "source": [
    "\n",
    "df = pd.read_csv(\"Povertymap_2011_2015.csv\")\n",
    "df['ids'] = df['corr_nom'].apply(lambda x:corr_id_map[x]) \n",
    "df['extreme_pov'] = df['av_FGT0e_15']\n",
    "df['poverty'] = df['av_FGT0g_15']"
   ]
  },
  {
   "cell_type": "code",
   "execution_count": 52,
   "id": "868c111d",
   "metadata": {},
   "outputs": [],
   "source": [
    "### creo id por distritos\n",
    "df1 = pd.read_csv(\"Povertymap_2015_distr.csv\")\n",
    "df1['ids'] = df1['dist_nom'].apply(lambda x:distr_id_map[x]) \n",
    "df1['extreme_pov'] = df1['e_poor_dist_15']\n",
    "df1['poverty'] = df1['g_poor_dist_15']"
   ]
  },
  {
   "cell_type": "code",
   "execution_count": 53,
   "id": "9b8229ec",
   "metadata": {},
   "outputs": [
    {
     "data": {
      "text/html": [
       "<div>\n",
       "<style scoped>\n",
       "    .dataframe tbody tr th:only-of-type {\n",
       "        vertical-align: middle;\n",
       "    }\n",
       "\n",
       "    .dataframe tbody tr th {\n",
       "        vertical-align: top;\n",
       "    }\n",
       "\n",
       "    .dataframe thead th {\n",
       "        text-align: right;\n",
       "    }\n",
       "</style>\n",
       "<table border=\"1\" class=\"dataframe\">\n",
       "  <thead>\n",
       "    <tr style=\"text-align: right;\">\n",
       "      <th></th>\n",
       "      <th>codigo</th>\n",
       "      <th>prov</th>\n",
       "      <th>dist</th>\n",
       "      <th>corr</th>\n",
       "      <th>prov_nom</th>\n",
       "      <th>dist_nom</th>\n",
       "      <th>corr_nom</th>\n",
       "      <th>nivel</th>\n",
       "      <th>poblac_15</th>\n",
       "      <th>poor_e_15</th>\n",
       "      <th>mean_poor_e_15</th>\n",
       "      <th>mean_people_dis_15</th>\n",
       "      <th>poor_g_15</th>\n",
       "      <th>mean_poor_g_15</th>\n",
       "      <th>e_poor_dist_15</th>\n",
       "      <th>g_poor_dist_15</th>\n",
       "      <th>ids</th>\n",
       "      <th>extreme_pov</th>\n",
       "      <th>poverty</th>\n",
       "    </tr>\n",
       "  </thead>\n",
       "  <tbody>\n",
       "    <tr>\n",
       "      <th>0</th>\n",
       "      <td>20101</td>\n",
       "      <td>2</td>\n",
       "      <td>1</td>\n",
       "      <td>1</td>\n",
       "      <td>COCLE</td>\n",
       "      <td>AGUADULCE (CAB)</td>\n",
       "      <td>AGUADULCE (AGUADULCE)</td>\n",
       "      <td>TOTAL CORREGIMIENTO</td>\n",
       "      <td>8476</td>\n",
       "      <td>106.6699</td>\n",
       "      <td>305.9147</td>\n",
       "      <td>8586.800</td>\n",
       "      <td>498.6984</td>\n",
       "      <td>1244.0340</td>\n",
       "      <td>0.035626</td>\n",
       "      <td>0.144877</td>\n",
       "      <td>0201</td>\n",
       "      <td>0.035626</td>\n",
       "      <td>0.144877</td>\n",
       "    </tr>\n",
       "    <tr>\n",
       "      <th>1</th>\n",
       "      <td>40101</td>\n",
       "      <td>4</td>\n",
       "      <td>1</td>\n",
       "      <td>1</td>\n",
       "      <td>CHIRIQUI</td>\n",
       "      <td>ALANJE</td>\n",
       "      <td>ALANJE (CABECERA)</td>\n",
       "      <td>TOTAL CORREGIMIENTO</td>\n",
       "      <td>2381</td>\n",
       "      <td>183.6249</td>\n",
       "      <td>280.4305</td>\n",
       "      <td>1830.333</td>\n",
       "      <td>557.6128</td>\n",
       "      <td>700.4833</td>\n",
       "      <td>0.153213</td>\n",
       "      <td>0.382708</td>\n",
       "      <td>0401</td>\n",
       "      <td>0.153213</td>\n",
       "      <td>0.382708</td>\n",
       "    </tr>\n",
       "    <tr>\n",
       "      <th>2</th>\n",
       "      <td>20201</td>\n",
       "      <td>2</td>\n",
       "      <td>2</td>\n",
       "      <td>1</td>\n",
       "      <td>COCLE</td>\n",
       "      <td>ANTÓN</td>\n",
       "      <td>ANTON (CABECERA)</td>\n",
       "      <td>TOTAL CORREGIMIENTO</td>\n",
       "      <td>9767</td>\n",
       "      <td>477.8510</td>\n",
       "      <td>588.4634</td>\n",
       "      <td>5242.600</td>\n",
       "      <td>1625.7410</td>\n",
       "      <td>1598.9480</td>\n",
       "      <td>0.112246</td>\n",
       "      <td>0.304991</td>\n",
       "      <td>0202</td>\n",
       "      <td>0.112246</td>\n",
       "      <td>0.304991</td>\n",
       "    </tr>\n",
       "    <tr>\n",
       "      <th>3</th>\n",
       "      <td>130101</td>\n",
       "      <td>13</td>\n",
       "      <td>1</td>\n",
       "      <td>1</td>\n",
       "      <td>PANAMA OESTE</td>\n",
       "      <td>ARRAIJÁN</td>\n",
       "      <td>ARRAIJAN (CABECERA)</td>\n",
       "      <td>TOTAL CORREGIMIENTO</td>\n",
       "      <td>40881</td>\n",
       "      <td>752.3994</td>\n",
       "      <td>380.9505</td>\n",
       "      <td>27457.000</td>\n",
       "      <td>3326.2520</td>\n",
       "      <td>1738.3160</td>\n",
       "      <td>0.013874</td>\n",
       "      <td>0.063311</td>\n",
       "      <td>0801</td>\n",
       "      <td>0.013874</td>\n",
       "      <td>0.063311</td>\n",
       "    </tr>\n",
       "    <tr>\n",
       "      <th>4</th>\n",
       "      <td>90101</td>\n",
       "      <td>9</td>\n",
       "      <td>1</td>\n",
       "      <td>1</td>\n",
       "      <td>VERAGUAS</td>\n",
       "      <td>ATALAYA</td>\n",
       "      <td>ATALAYA (CABECERA)</td>\n",
       "      <td>TOTAL CORREGIMIENTO</td>\n",
       "      <td>4888</td>\n",
       "      <td>197.9118</td>\n",
       "      <td>106.1488</td>\n",
       "      <td>2002.800</td>\n",
       "      <td>768.6484</td>\n",
       "      <td>394.9706</td>\n",
       "      <td>0.053000</td>\n",
       "      <td>0.197209</td>\n",
       "      <td>0901</td>\n",
       "      <td>0.053000</td>\n",
       "      <td>0.197209</td>\n",
       "    </tr>\n",
       "  </tbody>\n",
       "</table>\n",
       "</div>"
      ],
      "text/plain": [
       "   codigo  prov  dist  corr      prov_nom         dist_nom  \\\n",
       "0   20101     2     1     1         COCLE  AGUADULCE (CAB)   \n",
       "1   40101     4     1     1      CHIRIQUI           ALANJE   \n",
       "2   20201     2     2     1         COCLE            ANTÓN   \n",
       "3  130101    13     1     1  PANAMA OESTE         ARRAIJÁN   \n",
       "4   90101     9     1     1      VERAGUAS          ATALAYA   \n",
       "\n",
       "                corr_nom                nivel  poblac_15  poor_e_15  \\\n",
       "0  AGUADULCE (AGUADULCE)  TOTAL CORREGIMIENTO       8476   106.6699   \n",
       "1      ALANJE (CABECERA)  TOTAL CORREGIMIENTO       2381   183.6249   \n",
       "2       ANTON (CABECERA)  TOTAL CORREGIMIENTO       9767   477.8510   \n",
       "3    ARRAIJAN (CABECERA)  TOTAL CORREGIMIENTO      40881   752.3994   \n",
       "4     ATALAYA (CABECERA)  TOTAL CORREGIMIENTO       4888   197.9118   \n",
       "\n",
       "   mean_poor_e_15  mean_people_dis_15  poor_g_15  mean_poor_g_15  \\\n",
       "0        305.9147            8586.800   498.6984       1244.0340   \n",
       "1        280.4305            1830.333   557.6128        700.4833   \n",
       "2        588.4634            5242.600  1625.7410       1598.9480   \n",
       "3        380.9505           27457.000  3326.2520       1738.3160   \n",
       "4        106.1488            2002.800   768.6484        394.9706   \n",
       "\n",
       "   e_poor_dist_15  g_poor_dist_15   ids  extreme_pov   poverty  \n",
       "0        0.035626        0.144877  0201     0.035626  0.144877  \n",
       "1        0.153213        0.382708  0401     0.153213  0.382708  \n",
       "2        0.112246        0.304991  0202     0.112246  0.304991  \n",
       "3        0.013874        0.063311  0801     0.013874  0.063311  \n",
       "4        0.053000        0.197209  0901     0.053000  0.197209  "
      ]
     },
     "execution_count": 53,
     "metadata": {},
     "output_type": "execute_result"
    }
   ],
   "source": [
    "df1.head()"
   ]
  },
  {
   "cell_type": "code",
   "execution_count": 42,
   "id": "4bd84130",
   "metadata": {},
   "outputs": [],
   "source": [
    "## poverty by corregimientos\n",
    "fig = px.choropleth(df,locations='ids',geojson=panama_corr, featureidkey='properties.Codigo_u', color='poverty')\n",
    "fig.update_geos(fitbounds=\"locations\", visible=False)\n",
    "fig.show()"
   ]
  },
  {
   "cell_type": "code",
   "execution_count": 63,
   "id": "f0ad0c09",
   "metadata": {},
   "outputs": [],
   "source": [
    "## poverty by districts \n",
    "\n",
    "fig = px.choropleth(df1,locations='ids',\n",
    "                    geojson=panama_distr, \n",
    "                    featureidkey='properties.DIST_CODIG', \n",
    "                    color='poverty',\n",
    "                    hover_name='dist_nom',\n",
    "                   color_continuous_scale=\"Viridis\",\n",
    "                   labels='dist_nom')\n",
    "fig.update_geos(fitbounds=\"locations\", visible=False)\n",
    "fig.show()"
   ]
  },
  {
   "cell_type": "code",
   "execution_count": 62,
   "id": "59792b29",
   "metadata": {},
   "outputs": [],
   "source": [
    "## extreme poverty by districts \n",
    "\n",
    "fig = px.choropleth(df1,locations='ids',\n",
    "                    geojson=panama_distr, \n",
    "                    featureidkey='properties.DIST_CODIG', \n",
    "                    color='extreme_pov',\n",
    "                    hover_name='dist_nom',\n",
    "                   color_continuous_scale=\"Viridis\",\n",
    "                   labels='dist_nom')\n",
    "fig.update_geos(fitbounds=\"locations\", visible=False)\n",
    "fig.update_traces(colorbar_orientation='h')\n",
    "fig.show()"
   ]
  }
 ],
 "metadata": {
  "kernelspec": {
   "display_name": "Python 3 (ipykernel)",
   "language": "python",
   "name": "python3"
  },
  "language_info": {
   "codemirror_mode": {
    "name": "ipython",
    "version": 3
   },
   "file_extension": ".py",
   "mimetype": "text/x-python",
   "name": "python",
   "nbconvert_exporter": "python",
   "pygments_lexer": "ipython3",
   "version": "3.9.7"
  }
 },
 "nbformat": 4,
 "nbformat_minor": 5
}
