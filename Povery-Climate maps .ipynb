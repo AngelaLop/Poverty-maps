{
 "cells": [
  {
   "cell_type": "code",
   "execution_count": 1,
   "id": "824bb553",
   "metadata": {},
   "outputs": [],
   "source": [
    "import plotly.express as px\n",
    "import plotly.graph_objs as go\n",
    "import json\n",
    "import os\n",
    "import pandas as pd"
   ]
  },
  {
   "cell_type": "code",
   "execution_count": 2,
   "id": "ce1f8f3f",
   "metadata": {},
   "outputs": [],
   "source": [
    "import plotly.io as pio\n",
    "pio.renderers.default = \"browser\""
   ]
  },
  {
   "cell_type": "code",
   "execution_count": 3,
   "id": "a8b6e626",
   "metadata": {},
   "outputs": [
    {
     "name": "stdout",
     "output_type": "stream",
     "text": [
      "C:/Users/WB585318/WBG/Javier Romero - Panama/Pre-SCD/02 data/maps\n"
     ]
    }
   ],
   "source": [
    "path = 'C:/Users/WB585318/WBG/Javier Romero - Panama/Pre-SCD/'\n",
    "data = path+'02 data/maps'\n",
    "os.chdir(data)\n",
    "\n",
    "\n",
    "\n",
    "print(data)"
   ]
  },
  {
   "cell_type": "code",
   "execution_count": 4,
   "id": "a02adbbc",
   "metadata": {},
   "outputs": [],
   "source": [
    "panama_corr = json.load(open(\"PAN_corr.geojson\",\"r\",encoding='ISO-8859-1'))"
   ]
  },
  {
   "cell_type": "code",
   "execution_count": 4,
   "id": "4f5e53ad",
   "metadata": {},
   "outputs": [],
   "source": [
    "panama_distr = json.load(open(\"distritos-panama.geojson\",\"r\",encoding='utf8'))"
   ]
  },
  {
   "cell_type": "code",
   "execution_count": 4,
   "id": "1bb05da2",
   "metadata": {},
   "outputs": [],
   "source": [
    "panama_prov = json.load(open(\"provincias-panama.geojson\",\"r\", encoding='utf8'))"
   ]
  },
  {
   "cell_type": "code",
   "execution_count": 5,
   "id": "f6df219b",
   "metadata": {},
   "outputs": [
    {
     "data": {
      "text/plain": [
       "{'OBJECTID': 1278,\n",
       " 'Shape_Leng': 171222.408993,\n",
       " 'Shape_Area': 971716556.89,\n",
       " 'CODPROV': '13',\n",
       " 'NOMBRE': 'Comarca Kuna de Wargandí',\n",
       " 'AREA': 971.717}"
      ]
     },
     "execution_count": 5,
     "metadata": {},
     "output_type": "execute_result"
    }
   ],
   "source": [
    "panama_prov['features'][13]['properties']"
   ]
  },
  {
   "cell_type": "code",
   "execution_count": 6,
   "id": "9fbd6c09",
   "metadata": {},
   "outputs": [],
   "source": [
    "### creo id por provincias\n",
    "prov_id_map = {}\n",
    "for feature in panama_prov['features']:\n",
    "    feature['ids'] = feature['properties']['CODPROV']\n",
    "    prov_id_map[feature['properties']['NOMBRE']] = feature['ids']"
   ]
  },
  {
   "cell_type": "code",
   "execution_count": 5,
   "id": "c8505ed3",
   "metadata": {},
   "outputs": [],
   "source": [
    "### creo id por corregimientos \n",
    "corr_id_map = {}\n",
    "for feature in panama_prov['features']:\n",
    "    feature['ids'] = feature['properties']['Codigo_u']\n",
    "    corr_id_map[feature['properties']['Nombre']] = feature['ids']"
   ]
  },
  {
   "cell_type": "code",
   "execution_count": 190,
   "id": "043bc5cb",
   "metadata": {},
   "outputs": [],
   "source": [
    "corr_id_map_1 = {}\n",
    "for geometries in panama_corr['objects']['collection']['geometries']:\n",
    "    geometries['ids'] = geometries['properties']['COD_CORR']\n",
    "    corr_id_map_1[geometries['properties']['CORR_NOMB']] = geometries['ids']"
   ]
  },
  {
   "cell_type": "code",
   "execution_count": 7,
   "id": "0397a635",
   "metadata": {},
   "outputs": [
    {
     "data": {
      "text/plain": [
       "{'Bocas del Toro': '01',\n",
       " 'Coclé': '02',\n",
       " 'Comarca Emberá': '11',\n",
       " 'Comarca Kuna Yala': '14',\n",
       " 'Comarca Ngöbe Buglé': '12',\n",
       " 'Herrera': '06',\n",
       " 'Los Santos': '07',\n",
       " 'Colón': '03',\n",
       " 'Veraguas': '09',\n",
       " 'Chiriquí': '04',\n",
       " 'Comarca Kuna de Madungandí': '10',\n",
       " 'Panamá': '08',\n",
       " 'Darién': '05',\n",
       " 'Comarca Kuna de Wargandí': '13'}"
      ]
     },
     "execution_count": 7,
     "metadata": {},
     "output_type": "execute_result"
    }
   ],
   "source": [
    "prov_id_map"
   ]
  },
  {
   "cell_type": "code",
   "execution_count": 5,
   "id": "28b87564",
   "metadata": {},
   "outputs": [],
   "source": [
    "### creo id por distritos\n",
    "distr_id_map = {}\n",
    "for feature in panama_distr['features']:\n",
    "    feature['ids'] = feature['properties']['DIST_CODIG']\n",
    "    distr_id_map[feature['properties']['DIST_NOMBR']] = feature['ids']"
   ]
  },
  {
   "cell_type": "code",
   "execution_count": 48,
   "id": "ef89cc44",
   "metadata": {},
   "outputs": [],
   "source": [
    "df = pd.read_csv(\"Povertymap_2011_2015.csv\")\n",
    "df['ids'] = df['corr_nom'].apply(lambda x:corr_id_map[x]) \n",
    "df['extreme_pov'] = df['av_FGT0e_15']\n",
    "df['poverty'] = df['av_FGT0g_15']"
   ]
  },
  {
   "cell_type": "code",
   "execution_count": 24,
   "id": "868c111d",
   "metadata": {},
   "outputs": [],
   "source": [
    "df1 = pd.read_csv(\"Povertymap_2015_distr_climate.csv\")\n",
    "df1['ids'] = df1['dist_nom'].apply(lambda x:distr_id_map[x]) \n",
    "df1['extreme_pov'] = df1['e_poor_dist_15']\n",
    "df1['poverty'] = df1['g_poor_dist_15']"
   ]
  },
  {
   "cell_type": "code",
   "execution_count": 9,
   "id": "39ce5b19",
   "metadata": {},
   "outputs": [],
   "source": [
    "df2 = pd.read_csv(\"Povertymap_2015_2019_prov.csv\")\n",
    "df2['ids'] = df2['provincia '].apply(lambda x:prov_id_map[x]) \n",
    "df2['extreme_pov'] = df2['pov320_2019']\n",
    "df2['extreme_pov_var'] = df2['var320porc2015-2019']\n",
    "df2['poverty'] = df2['pov550_2019']\n",
    "df2['poverty_var'] = df2['var_poor550_2015-2019']"
   ]
  },
  {
   "cell_type": "code",
   "execution_count": 42,
   "id": "4bd84130",
   "metadata": {},
   "outputs": [],
   "source": [
    "fig = px.choropleth(df,locations='ids',geojson=panama_corr, featureidkey='properties.Codigo_u', color='poverty')\n",
    "fig.update_geos(fitbounds=\"locations\", visible=False)\n",
    "fig.show()"
   ]
  },
  {
   "cell_type": "code",
   "execution_count": 8,
   "id": "f0ad0c09",
   "metadata": {},
   "outputs": [],
   "source": [
    "## poverty by districts \n",
    "\n",
    "fig = px.choropleth(df1,locations='ids',\n",
    "                    geojson=panama_distr, \n",
    "                    featureidkey='properties.CODPROV', \n",
    "                    color='poverty',\n",
    "                    hover_name='dist_nom',\n",
    "                   color_continuous_scale=\"Viridis\",\n",
    "                   labels='dist_nom')\n",
    "fig.update_geos(fitbounds=\"locations\", visible=False)\n",
    "fig.show()"
   ]
  },
  {
   "cell_type": "code",
   "execution_count": 36,
   "id": "59792b29",
   "metadata": {},
   "outputs": [],
   "source": [
    "## vulnerability to climate change \n",
    "\n",
    "fig = px.choropleth(df1,locations='ids',\n",
    "                    geojson=panama_distr, \n",
    "                    featureidkey='properties.DIST_CODIG', \n",
    "                    color='Color',\n",
    "                    hover_name='dist_nom',\n",
    "                   color_continuous_scale=\"Viridis\",\n",
    "                    color_discrete_map={'High0':'#D62728', \n",
    "                                        'High1':'#9D755D',\n",
    "                                        'High2':'rgb(102,102,102)',\n",
    "                                        'Medium0':'#E48F72',\n",
    "                                        'Medium1':'#BAB0AC',\n",
    "                                        'Medium2':'#72B7B2',\n",
    "                                        'Low0':'rgb(254,217,166)',\n",
    "                                        'Low1':'rgb(141,211,199)',\n",
    "                                        'Low2':'rgb(56,166,165)',\n",
    "                                        'Less of 25% rural':'#E2E2E2'},\n",
    "                   labels='dist_nom')\n",
    "fig.update_geos(fitbounds=\"locations\", visible=False)\n",
    "fig.update_traces(colorbar_orientation='h')\n",
    "fig.show()"
   ]
  },
  {
   "cell_type": "code",
   "execution_count": 10,
   "id": "98f4a6a7",
   "metadata": {},
   "outputs": [],
   "source": [
    "## poverty by provinces\n",
    "fig = px.choropleth(df2,locations='ids',\n",
    "                    geojson=panama_prov, \n",
    "                    featureidkey='properties.CODPROV', \n",
    "                    color='poverty',\n",
    "                    hover_name='provincia ',\n",
    "                   color_continuous_scale='blues',\n",
    "                   labels='provincia')\n",
    "                   #range_color=[1,70])\n",
    "fig2 = px.scatter_geo(df2,locations='ids',\n",
    "                    geojson=panama_prov, \n",
    "                    featureidkey='properties.CODPROV', \n",
    "                    color='poverty_var',\n",
    "                    hover_name='provincia ',\n",
    "                   color_continuous_scale='reds',\n",
    "                     size='var550porc2015-2019_abs',\n",
    "                   labels='provincia')\n",
    "fig.add_trace(fig2.data[0], )\n",
    "#fig.update_traces(marker_line_color=\"white\")\n",
    "fig.update_geos(fitbounds=\"locations\", visible=False)\n",
    "fig.update_layout(coloraxis = {'colorscale':'viridis'})\n",
    "fig.show()"
   ]
  },
  {
   "cell_type": "code",
   "execution_count": 34,
   "id": "4a4a88e6",
   "metadata": {},
   "outputs": [],
   "source": [
    "## poverty by provinces\n",
    "fig = px.choropleth(df2,locations='ids',\n",
    "                    geojson=panama_prov, \n",
    "                    featureidkey='properties.CODPROV', \n",
    "                    color='poverty',\n",
    "                    hover_name='provincia ',\n",
    "                   color_continuous_scale='blues',\n",
    "                   labels='provincia')\n",
    "fig.update_geos(fitbounds=\"locations\", visible=False)\n",
    "fig.update_layout(coloraxis = {'colorscale':'viridis'})\n",
    "fig.show()"
   ]
  },
  {
   "cell_type": "code",
   "execution_count": 47,
   "id": "6b24b7b0",
   "metadata": {},
   "outputs": [],
   "source": [
    "fig = px.scatter_geo(df2,locations='ids',\n",
    "                    geojson=panama_prov, \n",
    "                    featureidkey='properties.CODPROV', \n",
    "                    color='poverty_var',\n",
    "                    hover_name='provincia ',\n",
    "                   color_continuous_scale='blues',\n",
    "                     size='var550porc2015-2019_abs',\n",
    "                   labels='provincia')\n",
    "fig.update_geos(fitbounds=\"locations\", visible=True)\n",
    "fig.show()\n"
   ]
  }
 ],
 "metadata": {
  "kernelspec": {
   "display_name": "Python 3 (ipykernel)",
   "language": "python",
   "name": "python3"
  },
  "language_info": {
   "codemirror_mode": {
    "name": "ipython",
    "version": 3
   },
   "file_extension": ".py",
   "mimetype": "text/x-python",
   "name": "python",
   "nbconvert_exporter": "python",
   "pygments_lexer": "ipython3",
   "version": "3.9.7"
  }
 },
 "nbformat": 4,
 "nbformat_minor": 5
}
